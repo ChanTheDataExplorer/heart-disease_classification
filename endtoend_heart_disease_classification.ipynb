# Predicting heart disease using machine learning

This notebook looks into using various Python-based machine learning and data science libraries in an attempt to build a machine learning model capable of predicting wheter based on their medical attributes.

We're following to take the following approach:
1. Problem Definition
2. Data
3. Evaluation
4. Features
5. Modelling
6. Experimentation

## 1. Problem Definition

In a statement,
> Given clinical parameters about a patient, can we predict whether or not they have a heart disease?

## 2. Data

The original data came from the Cleveland data from the UCI Machine Learning Repository. https://archive.ics.uci.edu/ml/datasets/Heart+Disease

There is a also a version of it available on kaggle. https://www.kaggle.com/ronitf/heart-disease-uci

## 3. Evaluation

> If we can reach 95% accuracy at predicting wheter or not a patient has a heart disease during the proof of concept, we'll pursue the project.

## 4. Features

This is where you'll get different information about each of the features in your data.

** Data Dictionary**

1. age (in years)
2. sex (1=male, 0=female)
3. cp: chest pain type
        0 typical angina: chest pain related decrease blood supply to the heart
        1 atypical angina: chest pain not related to heart
        2 non-anginal pain: typically esphageal spasms(non heart related)
        3 asymptomatic: chest pain not showing signes of disease
4. trestbps: resting blood pressure (in mm Hg on admission to the hospital)
5. chol: serum cholestoral in mg/dl
6. fbs: fasting blood sugar > 120 mg/dl (1 = true; 0 = false)
7. restecg: resting electrocardiographic results (values 0,1,2)
        0 normal
        1 having ST-T wave abnormality (T wave inversions and/or ST elevation
          or depression of > 0.05 mV)
        2 showing probable or definite left ventricular hypertrophy by Estes'
          criteria
8. thalach: maximum heart rate achieved
9. exang: exercise induced angina (1 = yes; 0 = no)
10. oldpeak: ST depression induced by exercise relative to rest
11. slope: the slope of the peak exercise ST segment
        0 upsloping
        1 flat
        2 downsloping
12. ca: number of major vessels (0-3) colored by flourosopy
13. thal: 3 = normal; 6 = fixed defect; 7 = reversable defect
14. target: have heart disease or not (1=yes, 0=no)
